{
 "cells": [
  {
   "cell_type": "code",
   "execution_count": 26,
   "id": "cc9e6273",
   "metadata": {},
   "outputs": [],
   "source": [
    "python_students = [['Govind', 37.21], ['Berry', 37.21], ['Tina', 37.2], ['Akriti', 41], ['Harsh', 39]]"
   ]
  },
  {
   "cell_type": "code",
   "execution_count": 11,
   "id": "ed481328",
   "metadata": {},
   "outputs": [
    {
     "data": {
      "text/plain": [
       "37.21"
      ]
     },
     "execution_count": 11,
     "metadata": {},
     "output_type": "execute_result"
    }
   ],
   "source": [
    "for i in range(len(python_students)):\n",
    "    python_students[i][1] = "
   ]
  },
  {
   "cell_type": "code",
   "execution_count": 14,
   "id": "b566622f",
   "metadata": {},
   "outputs": [
    {
     "data": {
      "text/plain": [
       "37.21"
      ]
     },
     "execution_count": 14,
     "metadata": {},
     "output_type": "execute_result"
    }
   ],
   "source": [
    "python_students[1][1]"
   ]
  },
  {
   "cell_type": "code",
   "execution_count": 15,
   "id": "91320742",
   "metadata": {},
   "outputs": [],
   "source": [
    "# sort the scores\n",
    "second_lowest_score = 0\n",
    "for name, score in python_students:\n",
    "    if score > python_students[0][1]:\n",
    "        second_lowest_score = score"
   ]
  },
  {
   "cell_type": "code",
   "execution_count": 16,
   "id": "964f222f",
   "metadata": {},
   "outputs": [
    {
     "data": {
      "text/plain": [
       "39"
      ]
     },
     "execution_count": 16,
     "metadata": {},
     "output_type": "execute_result"
    }
   ],
   "source": [
    "second_lowest_score"
   ]
  },
  {
   "cell_type": "code",
   "execution_count": 17,
   "id": "73f45b99",
   "metadata": {},
   "outputs": [],
   "source": [
    "python_students.sort()"
   ]
  },
  {
   "cell_type": "code",
   "execution_count": 21,
   "id": "54e2eb59",
   "metadata": {},
   "outputs": [],
   "source": [
    "students = dict(python_students)"
   ]
  },
  {
   "cell_type": "code",
   "execution_count": 22,
   "id": "74fded92",
   "metadata": {},
   "outputs": [
    {
     "data": {
      "text/plain": [
       "{'Akriti': 41, 'Berry': 37.21, 'Harry': 37.21, 'Harsh': 39, 'Tina': 37.2}"
      ]
     },
     "execution_count": 22,
     "metadata": {},
     "output_type": "execute_result"
    }
   ],
   "source": [
    "students"
   ]
  },
  {
   "cell_type": "code",
   "execution_count": 25,
   "id": "92e257b9",
   "metadata": {},
   "outputs": [
    {
     "ename": "TypeError",
     "evalue": "'builtin_function_or_method' object is not iterable",
     "output_type": "error",
     "traceback": [
      "\u001b[1;31m---------------------------------------------------------------------------\u001b[0m",
      "\u001b[1;31mTypeError\u001b[0m                                 Traceback (most recent call last)",
      "\u001b[1;32m~\\AppData\\Local\\Temp\\ipykernel_15936\\1401700594.py\u001b[0m in \u001b[0;36m<module>\u001b[1;34m\u001b[0m\n\u001b[0;32m      1\u001b[0m \u001b[0mmin_score\u001b[0m \u001b[1;33m=\u001b[0m \u001b[0mmin\u001b[0m\u001b[1;33m(\u001b[0m\u001b[0mstudents\u001b[0m\u001b[1;33m.\u001b[0m\u001b[0mvalues\u001b[0m\u001b[1;33m(\u001b[0m\u001b[1;33m)\u001b[0m\u001b[1;33m)\u001b[0m\u001b[1;33m\u001b[0m\u001b[1;33m\u001b[0m\u001b[0m\n\u001b[1;32m----> 2\u001b[1;33m \u001b[0msecond_lowest_score\u001b[0m \u001b[1;33m=\u001b[0m \u001b[1;33m[\u001b[0m\u001b[0mscore\u001b[0m \u001b[1;32mfor\u001b[0m \u001b[0mnames\u001b[0m\u001b[1;33m,\u001b[0m \u001b[0mscore\u001b[0m \u001b[1;32min\u001b[0m \u001b[0mstudents\u001b[0m\u001b[1;33m.\u001b[0m\u001b[0mitems\u001b[0m \u001b[1;32mif\u001b[0m \u001b[0mscore\u001b[0m \u001b[1;33m!=\u001b[0m \u001b[0mmin_score\u001b[0m\u001b[1;33m]\u001b[0m\u001b[1;33m\u001b[0m\u001b[1;33m\u001b[0m\u001b[0m\n\u001b[0m",
      "\u001b[1;31mTypeError\u001b[0m: 'builtin_function_or_method' object is not iterable"
     ]
    }
   ],
   "source": [
    "min_score = min(students.values())\n",
    "second_lowest_score = [score for names, score in students.items if score != min_score]"
   ]
  },
  {
   "cell_type": "code",
   "execution_count": 27,
   "id": "eaca2b31",
   "metadata": {},
   "outputs": [],
   "source": [
    "python_students.sort(key= lambda x: x[1])"
   ]
  },
  {
   "cell_type": "code",
   "execution_count": 28,
   "id": "9b38b665",
   "metadata": {},
   "outputs": [
    {
     "data": {
      "text/plain": [
       "[['Tina', 37.2],\n",
       " ['Harry', 37.21],\n",
       " ['Berry', 37.21],\n",
       " ['Harsh', 39],\n",
       " ['Akriti', 41]]"
      ]
     },
     "execution_count": 28,
     "metadata": {},
     "output_type": "execute_result"
    }
   ],
   "source": [
    "python_students"
   ]
  },
  {
   "cell_type": "code",
   "execution_count": 29,
   "id": "b8d13de4",
   "metadata": {},
   "outputs": [],
   "source": [
    "s_low =python_students[0][1]"
   ]
  },
  {
   "cell_type": "code",
   "execution_count": 33,
   "id": "69402b3c",
   "metadata": {},
   "outputs": [
    {
     "name": "stdout",
     "output_type": "stream",
     "text": [
      "Berry\n",
      "Harry\n"
     ]
    }
   ],
   "source": [
    "for i in range(len(python_students)):\n",
    "    if (python_students[i][1] > s_low):\n",
    "        s_low = python_students[i][1]\n",
    "        break\n",
    "               \n",
    "python_students.sort(key= lambda x:x[0])\n",
    "print(*(n[0] for n in python_students if n[1] == s_low), sep = '\\n')\n",
    "                                     \n",
    "               "
   ]
  },
  {
   "cell_type": "code",
   "execution_count": 35,
   "id": "a2b578b7",
   "metadata": {},
   "outputs": [
    {
     "data": {
      "text/plain": [
       "[['Akriti', 41],\n",
       " ['Berry', 37.21],\n",
       " ['Harry', 37.21],\n",
       " ['Harsh', 39],\n",
       " ['Tina', 37.2]]"
      ]
     },
     "execution_count": 35,
     "metadata": {},
     "output_type": "execute_result"
    }
   ],
   "source": [
    "python_students"
   ]
  },
  {
   "cell_type": "code",
   "execution_count": 36,
   "id": "251fc370",
   "metadata": {},
   "outputs": [
    {
     "data": {
      "text/plain": [
       "dict"
      ]
     },
     "execution_count": 36,
     "metadata": {},
     "output_type": "execute_result"
    }
   ],
   "source": [
    "type(students)"
   ]
  },
  {
   "cell_type": "code",
   "execution_count": 39,
   "id": "0b6c4aac",
   "metadata": {},
   "outputs": [],
   "source": [
    "a = 'Akriti'"
   ]
  },
  {
   "cell_type": "code",
   "execution_count": 40,
   "id": "0e3de76e",
   "metadata": {},
   "outputs": [
    {
     "name": "stdout",
     "output_type": "stream",
     "text": [
      "True\n"
     ]
    }
   ],
   "source": [
    "if a in students.keys():\n",
    "    print(True)"
   ]
  },
  {
   "cell_type": "code",
   "execution_count": 42,
   "id": "92fa7b2a",
   "metadata": {},
   "outputs": [],
   "source": [
    "students['Akriti'] = [41, 45]"
   ]
  },
  {
   "cell_type": "code",
   "execution_count": 49,
   "id": "0debc9a9",
   "metadata": {},
   "outputs": [
    {
     "data": {
      "text/plain": [
       "43.0"
      ]
     },
     "execution_count": 49,
     "metadata": {},
     "output_type": "execute_result"
    }
   ],
   "source": [
    "sum(students[a])/len(students[a])"
   ]
  },
  {
   "cell_type": "code",
   "execution_count": 47,
   "id": "32ae5d13",
   "metadata": {},
   "outputs": [
    {
     "data": {
      "text/plain": [
       "2"
      ]
     },
     "execution_count": 47,
     "metadata": {},
     "output_type": "execute_result"
    }
   ],
   "source": [
    "len(students[a])"
   ]
  },
  {
   "cell_type": "code",
   "execution_count": 50,
   "id": "137eed3f",
   "metadata": {},
   "outputs": [],
   "source": [
    "vowels = ['A','E','I','O','U']"
   ]
  },
  {
   "cell_type": "code",
   "execution_count": 52,
   "id": "8b1c288f",
   "metadata": {},
   "outputs": [],
   "source": [
    "str_len= len('BANANA')"
   ]
  },
  {
   "cell_type": "code",
   "execution_count": 53,
   "id": "5c32e91d",
   "metadata": {},
   "outputs": [],
   "source": [
    "phy = list(map(int, \"15  12  8   8   7   7   7   6   5   3\".split()))\n",
    "hist = list(map(int, \"10  25  17  11  13  17  20  13  9   15\".split()))"
   ]
  },
  {
   "cell_type": "code",
   "execution_count": 55,
   "id": "e221a984",
   "metadata": {},
   "outputs": [
    {
     "ename": "AttributeError",
     "evalue": "'list' object has no attribute 'corr'",
     "output_type": "error",
     "traceback": [
      "\u001b[1;31m---------------------------------------------------------------------------\u001b[0m",
      "\u001b[1;31mAttributeError\u001b[0m                            Traceback (most recent call last)",
      "\u001b[1;32m~\\AppData\\Local\\Temp\\ipykernel_15936\\2985669223.py\u001b[0m in \u001b[0;36m<module>\u001b[1;34m\u001b[0m\n\u001b[1;32m----> 1\u001b[1;33m \u001b[0mphy\u001b[0m\u001b[1;33m.\u001b[0m\u001b[0mcorr\u001b[0m\u001b[1;33m(\u001b[0m\u001b[0mhist\u001b[0m\u001b[1;33m)\u001b[0m\u001b[1;33m\u001b[0m\u001b[1;33m\u001b[0m\u001b[0m\n\u001b[0m",
      "\u001b[1;31mAttributeError\u001b[0m: 'list' object has no attribute 'corr'"
     ]
    }
   ],
   "source": [
    "phy.corr(hist)"
   ]
  },
  {
   "cell_type": "code",
   "execution_count": 1,
   "id": "78886fcc",
   "metadata": {},
   "outputs": [
    {
     "name": "stdout",
     "output_type": "stream",
     "text": [
      "HACK 2\n"
     ]
    }
   ],
   "source": [
    "S, k = input().split()"
   ]
  },
  {
   "cell_type": "code",
   "execution_count": 3,
   "id": "322154c2",
   "metadata": {},
   "outputs": [],
   "source": [
    "from itertools import permutations"
   ]
  },
  {
   "cell_type": "code",
   "execution_count": 5,
   "id": "32aef442",
   "metadata": {},
   "outputs": [
    {
     "data": {
      "text/plain": [
       "[('H', 'A'),\n",
       " ('H', 'C'),\n",
       " ('H', 'K'),\n",
       " ('A', 'H'),\n",
       " ('A', 'C'),\n",
       " ('A', 'K'),\n",
       " ('C', 'H'),\n",
       " ('C', 'A'),\n",
       " ('C', 'K'),\n",
       " ('K', 'H'),\n",
       " ('K', 'A'),\n",
       " ('K', 'C')]"
      ]
     },
     "execution_count": 5,
     "metadata": {},
     "output_type": "execute_result"
    }
   ],
   "source": [
    "lst = list(permutations(S, int(k)))\n",
    "lst"
   ]
  },
  {
   "cell_type": "code",
   "execution_count": 12,
   "id": "4b28c6fc",
   "metadata": {},
   "outputs": [],
   "source": [
    "lst2= sorted(lst)"
   ]
  },
  {
   "cell_type": "code",
   "execution_count": 13,
   "id": "743a3bc6",
   "metadata": {},
   "outputs": [
    {
     "name": "stdout",
     "output_type": "stream",
     "text": [
      "AC\n",
      "AH\n",
      "AK\n",
      "CA\n",
      "CH\n",
      "CK\n",
      "HA\n",
      "HC\n",
      "HK\n",
      "KA\n",
      "KC\n",
      "KH\n"
     ]
    }
   ],
   "source": [
    "for i in lst2:\n",
    "    print(\"\".join(i))"
   ]
  },
  {
   "cell_type": "code",
   "execution_count": 12,
   "id": "dea27c21",
   "metadata": {},
   "outputs": [],
   "source": [
    "strArr = [\"helloworld\", \"worldhello\"]"
   ]
  },
  {
   "cell_type": "code",
   "execution_count": 13,
   "id": "596e2bec",
   "metadata": {},
   "outputs": [],
   "source": [
    "s1 = strArr[0]\n",
    "s2 = strArr[1]"
   ]
  },
  {
   "cell_type": "code",
   "execution_count": 14,
   "id": "1aa07fe2",
   "metadata": {},
   "outputs": [],
   "source": [
    "ctr = 0\n",
    "for (i,j) in zip(s1, s2):\n",
    "    if i != j:\n",
    "        ctr+= 1"
   ]
  },
  {
   "cell_type": "code",
   "execution_count": 15,
   "id": "0002ab3c",
   "metadata": {},
   "outputs": [
    {
     "name": "stdout",
     "output_type": "stream",
     "text": [
      "8\n"
     ]
    }
   ],
   "source": [
    "print(ctr)"
   ]
  },
  {
   "cell_type": "code",
   "execution_count": 16,
   "id": "0e102af0",
   "metadata": {},
   "outputs": [],
   "source": [
    "strArr = \"6*(4/2)+3*1\""
   ]
  },
  {
   "cell_type": "code",
   "execution_count": 17,
   "id": "acdaf5d4",
   "metadata": {},
   "outputs": [
    {
     "data": {
      "text/plain": [
       "15.0"
      ]
     },
     "execution_count": 17,
     "metadata": {},
     "output_type": "execute_result"
    }
   ],
   "source": [
    "eval(strArr)"
   ]
  },
  {
   "cell_type": "code",
   "execution_count": 18,
   "id": "799e5494",
   "metadata": {},
   "outputs": [],
   "source": [
    "import sympy"
   ]
  },
  {
   "cell_type": "code",
   "execution_count": 19,
   "id": "b7c97274",
   "metadata": {},
   "outputs": [
    {
     "data": {
      "text/latex": [
       "$\\displaystyle 15$"
      ],
      "text/plain": [
       "15"
      ]
     },
     "execution_count": 19,
     "metadata": {},
     "output_type": "execute_result"
    }
   ],
   "source": [
    "sympy.sympify(strArr)"
   ]
  },
  {
   "cell_type": "code",
   "execution_count": 26,
   "id": "d3d7c3de",
   "metadata": {},
   "outputs": [],
   "source": [
    "num = 63\n",
    "hour = num//60\n",
    "minutes = num%60\n",
    "k = f\"{hour}:{minutes}\""
   ]
  },
  {
   "cell_type": "code",
   "execution_count": 27,
   "id": "d4cd290a",
   "metadata": {},
   "outputs": [
    {
     "name": "stdout",
     "output_type": "stream",
     "text": [
      "1:3\n"
     ]
    }
   ],
   "source": [
    "print(k)"
   ]
  },
  {
   "cell_type": "code",
   "execution_count": 29,
   "id": "8a88c806",
   "metadata": {},
   "outputs": [
    {
     "data": {
      "text/plain": [
       "'1:3'"
      ]
     },
     "execution_count": 29,
     "metadata": {},
     "output_type": "execute_result"
    }
   ],
   "source": [
    "k = str(hour)+\":\"+str(minutes)\n",
    "k"
   ]
  },
  {
   "cell_type": "code",
   "execution_count": 31,
   "id": "c0609c2f",
   "metadata": {},
   "outputs": [
    {
     "name": "stdout",
     "output_type": "stream",
     "text": [
      "1:3\n"
     ]
    }
   ],
   "source": [
    "j = f\"{hour}:{minutes}\"\n",
    "print(j)"
   ]
  },
  {
   "cell_type": "code",
   "execution_count": 32,
   "id": "494f24f6",
   "metadata": {},
   "outputs": [],
   "source": [
    "tup = [(1,\"G\"), (2, \"K\")]"
   ]
  },
  {
   "cell_type": "code",
   "execution_count": 33,
   "id": "7ff7ba82",
   "metadata": {},
   "outputs": [
    {
     "name": "stdout",
     "output_type": "stream",
     "text": [
      "1 G\n",
      "2 K\n"
     ]
    }
   ],
   "source": [
    "for limit, roman in tup:\n",
    "    print(limit, roman)"
   ]
  },
  {
   "cell_type": "code",
   "execution_count": 45,
   "id": "1dae04f3",
   "metadata": {},
   "outputs": [],
   "source": [
    "dict_number = {1000: 'M', 900: 'CM', 500: 'D', 400:'CD', 100: 'C', 90: 'XC', 50: 'L', 40:'XL', 10: 'X', 9: 'IX', 5: 'V', 4: 'IV', 1:'I'}"
   ]
  },
  {
   "cell_type": "code",
   "execution_count": 48,
   "id": "40b771b2",
   "metadata": {},
   "outputs": [],
   "source": [
    "num = 1620\n",
    "res= \"\""
   ]
  },
  {
   "cell_type": "code",
   "execution_count": 49,
   "id": "5bb44f58",
   "metadata": {},
   "outputs": [
    {
     "name": "stdout",
     "output_type": "stream",
     "text": [
      "MDCXX\n"
     ]
    }
   ],
   "source": [
    "for key in dict_number:\n",
    "    q,r = divmod(num, key)\n",
    "    res += dict_number[key] * q\n",
    "    num = r\n",
    "print(res)"
   ]
  },
  {
   "cell_type": "code",
   "execution_count": 50,
   "id": "46e0fbbf",
   "metadata": {},
   "outputs": [
    {
     "data": {
      "text/plain": [
       "-1"
      ]
     },
     "execution_count": 50,
     "metadata": {},
     "output_type": "execute_result"
    }
   ],
   "source": [
    "-3//3"
   ]
  },
  {
   "cell_type": "code",
   "execution_count": 51,
   "id": "e07e346b",
   "metadata": {},
   "outputs": [],
   "source": [
    "strParam = \"(1 1)(8 8)\""
   ]
  },
  {
   "cell_type": "code",
   "execution_count": 61,
   "id": "96c3ab29",
   "metadata": {},
   "outputs": [],
   "source": [
    "x,y,a,b = int(strParam[1]),int(strParam[3]), int(strParam[6]),int(strParam[8])"
   ]
  },
  {
   "cell_type": "code",
   "execution_count": 62,
   "id": "46b11ca1",
   "metadata": {},
   "outputs": [
    {
     "data": {
      "text/plain": [
       "(1, 1, 8, 8)"
      ]
     },
     "execution_count": 62,
     "metadata": {},
     "output_type": "execute_result"
    }
   ],
   "source": [
    "x,y,a,b"
   ]
  },
  {
   "cell_type": "code",
   "execution_count": 72,
   "id": "917db4b4",
   "metadata": {},
   "outputs": [],
   "source": [
    "class Node:\n",
    "    # (x, y) represents chessboard coordinates\n",
    "    # `dist` represents its minimum distance from the source\n",
    "    def __init__(self, x, y, dist=0):\n",
    "        self.x = x\n",
    "        self.y = y\n",
    "        self.dist = dist\n",
    " \n",
    "    # As we are using `Node` as a key in a dictionary,\n",
    "    # we need to override the `__hash__()` and `__eq__()` function\n",
    "    def __hash__(self):\n",
    "        return hash((self.x, self.y, self.dist))\n",
    " \n",
    "    def __eq__(self, other):\n",
    "        return (self.x, self.y, self.dist) == (other.x, other.y, other.dist)"
   ]
  },
  {
   "cell_type": "code",
   "execution_count": 74,
   "id": "ce9f075b",
   "metadata": {},
   "outputs": [],
   "source": [
    "def findShortestDistance(src, dest, N):\n",
    "    visited = set()\n",
    "    # create a queue and enqueue the first node\n",
    "    q = deque()\n",
    "    q.append(src)\n",
    "    # loop till queue is empty\n",
    "    while q:\n",
    " \n",
    "        # dequeue front node and process it\n",
    "        node = q.popleft()\n",
    " \n",
    "        x = node.x\n",
    "        y = node.y\n",
    "        dist = node.dist\n",
    " \n",
    "        # if the destination is reached, return distance\n",
    "        if x == dest.x and y == dest.y:\n",
    "            return dist\n",
    " \n",
    "        # skip if the location is visited before\n",
    "        if node not in visited:\n",
    "            # mark the current node as visited\n",
    "            visited.add(node)\n",
    " \n",
    "            # check for all eight possible movements for a knight\n",
    "            # and enqueue each valid movement\n",
    "            for i in range(len(row)):\n",
    "                # get the knight's valid position from the current position on\n",
    "                # the chessboard and enqueue it with +1 distance\n",
    "                x1 = x + row[i]\n",
    "                y1 = y + col[i]\n",
    " \n",
    "                \n",
    " \n",
    "    # return infinity if the path is not possible\n",
    "    return sys.maxsize"
   ]
  },
  {
   "cell_type": "code",
   "execution_count": 75,
   "id": "796c80bb",
   "metadata": {},
   "outputs": [
    {
     "name": "stdout",
     "output_type": "stream",
     "text": [
      "9223372036854775807\n"
     ]
    }
   ],
   "source": [
    "import sys\n",
    "from collections import deque\n",
    "N = 8\n",
    "src = Node(0,7)\n",
    "dest = Node(7,0)\n",
    "print(findShortestDistance(src,dest,N))"
   ]
  },
  {
   "cell_type": "code",
   "execution_count": 77,
   "id": "cf92c4e0",
   "metadata": {},
   "outputs": [
    {
     "data": {
      "text/plain": [
       "(1, 1, 8, 8)"
      ]
     },
     "execution_count": 77,
     "metadata": {},
     "output_type": "execute_result"
    }
   ],
   "source": [
    "x,y,a,b"
   ]
  },
  {
   "cell_type": "code",
   "execution_count": 79,
   "id": "40c74725",
   "metadata": {},
   "outputs": [],
   "source": [
    "dist= []"
   ]
  },
  {
   "cell_type": "code",
   "execution_count": 80,
   "id": "3e0c64d3",
   "metadata": {},
   "outputs": [],
   "source": [
    "import numpy as np"
   ]
  },
  {
   "cell_type": "code",
   "execution_count": 86,
   "id": "b0035da4",
   "metadata": {},
   "outputs": [],
   "source": [
    "row = [2, 2, -2, -2, 1, 1, -1, -1]\n",
    "col = [-1, 1, 1, -1, 2, -2, 2, -2]"
   ]
  },
  {
   "cell_type": "code",
   "execution_count": 84,
   "id": "55f0af94",
   "metadata": {},
   "outputs": [],
   "source": [
    "def shortdistance(x,y,a,b):\n",
    "    ctr = 0\n",
    "    if x==a and y==b:\n",
    "        print('source and destination are same')\n",
    "    \n",
    "    for i in range(len(row)):\n",
    "        x = x + row[i]\n",
    "        y = y + col[i]\n",
    "        \n",
    "        ctr+= 1\n",
    "        \n",
    "        if x==a and y==b:\n",
    "            print('destination reached')\n",
    "            print(ctr)\n",
    "        \n",
    "    print(ctr)"
   ]
  },
  {
   "cell_type": "code",
   "execution_count": 85,
   "id": "40d076b8",
   "metadata": {},
   "outputs": [
    {
     "name": "stdout",
     "output_type": "stream",
     "text": [
      "8\n"
     ]
    }
   ],
   "source": [
    "shortdistance(1,1,8,8)"
   ]
  },
  {
   "cell_type": "code",
   "execution_count": 83,
   "id": "95134e5a",
   "metadata": {},
   "outputs": [
    {
     "data": {
      "text/plain": [
       "[13, 11, 15, 17, 11, 15, 13, 17]"
      ]
     },
     "execution_count": 83,
     "metadata": {},
     "output_type": "execute_result"
    }
   ],
   "source": [
    "dist"
   ]
  },
  {
   "cell_type": "code",
   "execution_count": 110,
   "id": "d1fc23f6",
   "metadata": {},
   "outputs": [],
   "source": [
    "def SeatingStudents(arr):\n",
    "\n",
    "  # code goes here\n",
    "\n",
    "  k = arr[0] #number of desks in the classroom\n",
    "  occupied = arr[1:]\n",
    "  rows = int(k/2)\n",
    "\n",
    "  seats = []\n",
    "  x = 0\n",
    "\n",
    "  for i in range(rows):\n",
    "    seats.append([])\n",
    "    for j in range(2):\n",
    "      if (x+1) in occupied:\n",
    "        full_seat = True\n",
    "      else:\n",
    "        full_seat = False\n",
    "      seats[i].append(str(full_seat))\n",
    "      x += 1\n",
    "        \n",
    "  print(seats)\n",
    "  seating = 0\n",
    "  for i in range(rows-1):\n",
    "    if ((seats[i][0] == 'False') and (seats[i][1] == 'False')):\n",
    "      seating += 1\n",
    "      \n",
    "    if ((seats[i][0] == 'False') and (seats[i+1][0] == 'False')):\n",
    "      seating += 1\n",
    "      \n",
    "    if ((seats[i][1] == 'False') and (seats[i+1][1] == 'False')):\n",
    "      seating += 1\n",
    "      \n",
    "\n",
    "  if((seats[rows-1][0] == 'False') and (seats[rows-1][1] == 'False')):\n",
    "      seating += 1\n",
    "\n",
    "  return seating"
   ]
  },
  {
   "cell_type": "code",
   "execution_count": 111,
   "id": "0cdb17f3",
   "metadata": {},
   "outputs": [
    {
     "name": "stdout",
     "output_type": "stream",
     "text": [
      "[['False', 'False'], ['False', 'True'], ['False', 'False']]\n"
     ]
    },
    {
     "data": {
      "text/plain": [
       "4"
      ]
     },
     "execution_count": 111,
     "metadata": {},
     "output_type": "execute_result"
    }
   ],
   "source": [
    "SeatingStudents([6,4])"
   ]
  },
  {
   "cell_type": "code",
   "execution_count": null,
   "id": "b435d7e1",
   "metadata": {},
   "outputs": [],
   "source": [
    "strParam = \"(1 1)(8 8)\"\n"
   ]
  },
  {
   "cell_type": "code",
   "execution_count": null,
   "id": "989b92c9",
   "metadata": {},
   "outputs": [],
   "source": [
    "def funct_chess(strParam):\n",
    "    x,y,a,b = int(strParam[1]), int(strParam[3]), int(strParam[6]), int(strParam[8])\n",
    "    moves = [(2,1), (2,-1), (-2,1), (-2,-1), (1,2), (1,-2), (-1,2), (-1,-2)]\n",
    "    ctr = 0\n",
    "    visited = set()\n",
    "    visited.add((x,y))\n",
    "    while (a,b) not in visited:\n",
    "        ctr+=1\n",
    "        new_positions = set()\n",
    "        for pos in visited:\n",
    "            for move in moves:\n",
    "                new_pos = (pos[0] + move[0], pos[1] + move[1])\n",
    "                if 1<= new_pos[0] <=8 and 1<= new_pos[1] <= 8:\n",
    "                    new_positions.add(new_pos)\n",
    "\n",
    "\n",
    "    visited = new_positions\n",
    "   \n",
    "    return ctr"
   ]
  },
  {
   "cell_type": "code",
   "execution_count": null,
   "id": "c8651ef8",
   "metadata": {},
   "outputs": [],
   "source": [
    "s = \"(1,1)(8,8)\"\n",
    "num = funct_chess(s)\n",
    "\n",
    "print(num)"
   ]
  },
  {
   "cell_type": "code",
   "execution_count": 46,
   "id": "b4567f69",
   "metadata": {},
   "outputs": [],
   "source": [
    "s = '132 456 Wq  m e'"
   ]
  },
  {
   "cell_type": "code",
   "execution_count": 14,
   "id": "a8dc154d",
   "metadata": {},
   "outputs": [],
   "source": [
    "s1,s2 = s.split(\" \")"
   ]
  },
  {
   "cell_type": "code",
   "execution_count": 15,
   "id": "9d4e9899",
   "metadata": {},
   "outputs": [],
   "source": [
    "first_name = s1[0].upper()+ s1[1:]\n",
    "last_name = s2[0].upper() + s2[1:]\n",
    "\n",
    "name = first_name + \" \" + last_name"
   ]
  },
  {
   "cell_type": "code",
   "execution_count": 16,
   "id": "889ea69b",
   "metadata": {},
   "outputs": [
    {
     "name": "stdout",
     "output_type": "stream",
     "text": [
      "12abc Alan\n"
     ]
    }
   ],
   "source": [
    "print(name)"
   ]
  },
  {
   "cell_type": "code",
   "execution_count": 37,
   "id": "d61084ce",
   "metadata": {},
   "outputs": [
    {
     "data": {
      "text/plain": [
       "['132', '456', 'Wq', '', 'm', 'e']"
      ]
     },
     "execution_count": 37,
     "metadata": {},
     "output_type": "execute_result"
    }
   ],
   "source": [
    "x= s.split(\" \")\n",
    "x"
   ]
  },
  {
   "cell_type": "code",
   "execution_count": 38,
   "id": "752af423",
   "metadata": {},
   "outputs": [
    {
     "data": {
      "text/plain": [
       "'1'"
      ]
     },
     "execution_count": 38,
     "metadata": {},
     "output_type": "execute_result"
    }
   ],
   "source": [
    "x[0][0]"
   ]
  },
  {
   "cell_type": "code",
   "execution_count": 40,
   "id": "3887a9c7",
   "metadata": {},
   "outputs": [
    {
     "ename": "IndexError",
     "evalue": "string index out of range",
     "output_type": "error",
     "traceback": [
      "\u001b[1;31m---------------------------------------------------------------------------\u001b[0m",
      "\u001b[1;31mIndexError\u001b[0m                                Traceback (most recent call last)",
      "\u001b[1;32m~\\AppData\\Local\\Temp\\ipykernel_5420\\332185524.py\u001b[0m in \u001b[0;36m<module>\u001b[1;34m\u001b[0m\n\u001b[1;32m----> 1\u001b[1;33m \u001b[0mname\u001b[0m \u001b[1;33m=\u001b[0m \u001b[1;33m[\u001b[0m\u001b[0mx\u001b[0m\u001b[1;33m[\u001b[0m\u001b[0midx\u001b[0m\u001b[1;33m]\u001b[0m\u001b[1;33m[\u001b[0m\u001b[1;36m0\u001b[0m\u001b[1;33m]\u001b[0m\u001b[1;33m.\u001b[0m\u001b[0mupper\u001b[0m\u001b[1;33m(\u001b[0m\u001b[1;33m)\u001b[0m \u001b[1;33m+\u001b[0m \u001b[0mx\u001b[0m\u001b[1;33m[\u001b[0m\u001b[0midx\u001b[0m\u001b[1;33m]\u001b[0m\u001b[1;33m[\u001b[0m\u001b[1;36m1\u001b[0m\u001b[1;33m:\u001b[0m\u001b[1;33m]\u001b[0m \u001b[1;32mfor\u001b[0m \u001b[0midx\u001b[0m \u001b[1;32min\u001b[0m \u001b[0mrange\u001b[0m\u001b[1;33m(\u001b[0m\u001b[0mlen\u001b[0m\u001b[1;33m(\u001b[0m\u001b[0mx\u001b[0m\u001b[1;33m)\u001b[0m\u001b[1;33m)\u001b[0m\u001b[1;33m]\u001b[0m\u001b[1;33m\u001b[0m\u001b[1;33m\u001b[0m\u001b[0m\n\u001b[0m",
      "\u001b[1;32m~\\AppData\\Local\\Temp\\ipykernel_5420\\332185524.py\u001b[0m in \u001b[0;36m<listcomp>\u001b[1;34m(.0)\u001b[0m\n\u001b[1;32m----> 1\u001b[1;33m \u001b[0mname\u001b[0m \u001b[1;33m=\u001b[0m \u001b[1;33m[\u001b[0m\u001b[0mx\u001b[0m\u001b[1;33m[\u001b[0m\u001b[0midx\u001b[0m\u001b[1;33m]\u001b[0m\u001b[1;33m[\u001b[0m\u001b[1;36m0\u001b[0m\u001b[1;33m]\u001b[0m\u001b[1;33m.\u001b[0m\u001b[0mupper\u001b[0m\u001b[1;33m(\u001b[0m\u001b[1;33m)\u001b[0m \u001b[1;33m+\u001b[0m \u001b[0mx\u001b[0m\u001b[1;33m[\u001b[0m\u001b[0midx\u001b[0m\u001b[1;33m]\u001b[0m\u001b[1;33m[\u001b[0m\u001b[1;36m1\u001b[0m\u001b[1;33m:\u001b[0m\u001b[1;33m]\u001b[0m \u001b[1;32mfor\u001b[0m \u001b[0midx\u001b[0m \u001b[1;32min\u001b[0m \u001b[0mrange\u001b[0m\u001b[1;33m(\u001b[0m\u001b[0mlen\u001b[0m\u001b[1;33m(\u001b[0m\u001b[0mx\u001b[0m\u001b[1;33m)\u001b[0m\u001b[1;33m)\u001b[0m\u001b[1;33m]\u001b[0m\u001b[1;33m\u001b[0m\u001b[1;33m\u001b[0m\u001b[0m\n\u001b[0m",
      "\u001b[1;31mIndexError\u001b[0m: string index out of range"
     ]
    }
   ],
   "source": [
    "name = [x[idx][0].upper() + x[idx][1:] for idx in range(len(x))]"
   ]
  },
  {
   "cell_type": "code",
   "execution_count": 41,
   "id": "60355764",
   "metadata": {},
   "outputs": [
    {
     "data": {
      "text/plain": [
       "['12abc', 'Alan', 'M', 'E', 'Wq', 'Qwert']"
      ]
     },
     "execution_count": 41,
     "metadata": {},
     "output_type": "execute_result"
    }
   ],
   "source": [
    "name"
   ]
  },
  {
   "cell_type": "code",
   "execution_count": 34,
   "id": "0d3ea433",
   "metadata": {},
   "outputs": [],
   "source": [
    "result = \" \".join(name)"
   ]
  },
  {
   "cell_type": "code",
   "execution_count": 35,
   "id": "6c92968e",
   "metadata": {},
   "outputs": [
    {
     "data": {
      "text/plain": [
       "'12abc Alan M E Wq Qwert'"
      ]
     },
     "execution_count": 35,
     "metadata": {},
     "output_type": "execute_result"
    }
   ],
   "source": [
    "result"
   ]
  },
  {
   "cell_type": "code",
   "execution_count": 42,
   "id": "96695ab8",
   "metadata": {},
   "outputs": [
    {
     "data": {
      "text/plain": [
       "'Govind kishore  vikash'"
      ]
     },
     "execution_count": 42,
     "metadata": {},
     "output_type": "execute_result"
    }
   ],
   "source": [
    "x = 'govind kishore  vikash'\n",
    "x.capitalize()"
   ]
  },
  {
   "cell_type": "code",
   "execution_count": 48,
   "id": "23a30aa1",
   "metadata": {},
   "outputs": [
    {
     "name": "stdout",
     "output_type": "stream",
     "text": [
      "132 456 Wq  M E\n"
     ]
    }
   ],
   "source": [
    "lst= []\n",
    "part = s.split(\" \")\n",
    "for x in part:\n",
    "    lst.append(x.capitalize())\n",
    "    \n",
    "name = \" \".join(lst)\n",
    "print(name)"
   ]
  },
  {
   "cell_type": "code",
   "execution_count": 49,
   "id": "6a883a9b",
   "metadata": {},
   "outputs": [],
   "source": [
    "s = 'AABCAAADA'\n",
    "k = 3"
   ]
  },
  {
   "cell_type": "code",
   "execution_count": 55,
   "id": "19e96b3e",
   "metadata": {},
   "outputs": [
    {
     "data": {
      "text/plain": [
       "'AAB CAA ADA'"
      ]
     },
     "execution_count": 55,
     "metadata": {},
     "output_type": "execute_result"
    }
   ],
   "source": [
    "s[:k]+ \" \" + s[k:2*k] + \" \" + s[2*k:len(s)]"
   ]
  },
  {
   "cell_type": "code",
   "execution_count": 54,
   "id": "59bb37c3",
   "metadata": {},
   "outputs": [
    {
     "data": {
      "text/plain": [
       "'CAA'"
      ]
     },
     "execution_count": 54,
     "metadata": {},
     "output_type": "execute_result"
    }
   ],
   "source": [
    "s[k:2*k]"
   ]
  },
  {
   "cell_type": "code",
   "execution_count": 60,
   "id": "0ee0d97d",
   "metadata": {},
   "outputs": [
    {
     "ename": "TypeError",
     "evalue": "'float' object cannot be interpreted as an integer",
     "output_type": "error",
     "traceback": [
      "\u001b[1;31m---------------------------------------------------------------------------\u001b[0m",
      "\u001b[1;31mTypeError\u001b[0m                                 Traceback (most recent call last)",
      "\u001b[1;32m~\\AppData\\Local\\Temp\\ipykernel_5420\\2848351470.py\u001b[0m in \u001b[0;36m<module>\u001b[1;34m\u001b[0m\n\u001b[1;32m----> 1\u001b[1;33m \u001b[1;32mfor\u001b[0m \u001b[0mi\u001b[0m \u001b[1;32min\u001b[0m \u001b[0mrange\u001b[0m\u001b[1;33m(\u001b[0m\u001b[1;36m0\u001b[0m\u001b[1;33m,\u001b[0m\u001b[0mlen\u001b[0m\u001b[1;33m(\u001b[0m\u001b[0ms\u001b[0m\u001b[1;33m)\u001b[0m\u001b[1;33m,\u001b[0m\u001b[0mlen\u001b[0m\u001b[1;33m(\u001b[0m\u001b[0ms\u001b[0m\u001b[1;33m)\u001b[0m\u001b[1;33m/\u001b[0m\u001b[0mk\u001b[0m\u001b[1;33m)\u001b[0m\u001b[1;33m:\u001b[0m\u001b[1;33m\u001b[0m\u001b[1;33m\u001b[0m\u001b[0m\n\u001b[0m\u001b[0;32m      2\u001b[0m     \u001b[0mprint\u001b[0m\u001b[1;33m(\u001b[0m\u001b[0ms\u001b[0m\u001b[1;33m[\u001b[0m\u001b[0mi\u001b[0m\u001b[1;33m:\u001b[0m\u001b[0mi\u001b[0m\u001b[1;33m+\u001b[0m\u001b[0mk\u001b[0m\u001b[1;33m]\u001b[0m\u001b[1;33m)\u001b[0m\u001b[1;33m\u001b[0m\u001b[1;33m\u001b[0m\u001b[0m\n",
      "\u001b[1;31mTypeError\u001b[0m: 'float' object cannot be interpreted as an integer"
     ]
    }
   ],
   "source": [
    "for i in range(0,len(s),len(s)/k):\n",
    "    print(s[i:i+k])"
   ]
  },
  {
   "cell_type": "code",
   "execution_count": 1,
   "id": "b9375c0c",
   "metadata": {},
   "outputs": [],
   "source": [
    "n, m = 9, 27"
   ]
  },
  {
   "cell_type": "code",
   "execution_count": 13,
   "id": "da27583a",
   "metadata": {},
   "outputs": [
    {
     "name": "stdout",
     "output_type": "stream",
     "text": [
      "------------.||.------------\n",
      "-----------..||||..-----------\n",
      "----------...||||||...----------\n",
      "---------....||||||||....---------\n",
      "--------.....||||||||||.....--------\n",
      "-------......||||||||||||......-------\n",
      "------.......||||||||||||||.......------\n",
      "-----........||||||||||||||||........-----\n"
     ]
    }
   ],
   "source": [
    "for i in range(1,n):\n",
    "    stri= '-'* int(0.5*(m-(2*i+1))) + '.'*i + '|'*i\n",
    "    print(stri + stri[::-1])\n",
    "        "
   ]
  },
  {
   "cell_type": "code",
   "execution_count": 9,
   "id": "39738722",
   "metadata": {},
   "outputs": [
    {
     "name": "stdout",
     "output_type": "stream",
     "text": [
      "-----@@@@-----\n"
     ]
    }
   ],
   "source": [
    "stri= '-'*5 + '@'*2\n",
    "print(stri + stri[::-1])"
   ]
  },
  {
   "cell_type": "code",
   "execution_count": 14,
   "id": "0d8a3aa0",
   "metadata": {},
   "outputs": [
    {
     "name": "stdout",
     "output_type": "stream",
     "text": [
      "----------welcome----------\n"
     ]
    }
   ],
   "source": [
    "print('welcome'.center(27,'-'))"
   ]
  },
  {
   "cell_type": "code",
   "execution_count": 19,
   "id": "e9c68084",
   "metadata": {},
   "outputs": [
    {
     "name": "stdout",
     "output_type": "stream",
     "text": [
      "------------.|.------------\n",
      "---------.|..|..|.---------\n",
      "------.|..|..|..|..|.------\n",
      "---.|..|..|..|..|..|..|.---\n",
      "----------welcome----------\n",
      ".|..|..|..|..|..|..|..|..|.\n",
      "---.|..|..|..|..|..|..|.---\n",
      "------.|..|..|..|..|.------\n",
      "---------.|..|..|.---------\n",
      "------------.|.------------\n"
     ]
    }
   ],
   "source": [
    "for i in range(n//2):\n",
    "    print((((2*i)+1)* '.|.').center(m, '-'))\n",
    "print('welcome'.center(m,'-'))\n",
    "for i in range(n//2,-1,-1):\n",
    "    print((((2*i)+1)* '.|.').center(m, '-'))"
   ]
  },
  {
   "cell_type": "code",
   "execution_count": 59,
   "id": "d3c454d9",
   "metadata": {},
   "outputs": [
    {
     "data": {
      "text/plain": [
       "4"
      ]
     },
     "execution_count": 59,
     "metadata": {},
     "output_type": "execute_result"
    }
   ],
   "source": [
    "n = 10\n",
    "l = len(bin(n)[2:])\n",
    "l"
   ]
  },
  {
   "cell_type": "code",
   "execution_count": 60,
   "id": "4e74e35f",
   "metadata": {},
   "outputs": [
    {
     "name": "stdout",
     "output_type": "stream",
     "text": [
      "   1    1    1    1\n",
      "   2    2    2   10\n",
      "   3    3    3   11\n",
      "   4    4    4  100\n",
      "   5    5    5  101\n",
      "   6    6    6  110\n",
      "   7    7    7  111\n",
      "   8   10    8 1000\n",
      "   9   11    9 1001\n",
      "  10   12    A 1010\n"
     ]
    }
   ],
   "source": [
    "for i in range(1,n+1):\n",
    "    print(str(i).rjust(l,\" \"), oct(i)[2:].rjust(l, \" \"), hex(i)[2:].upper().rjust(l, \" \"), bin(i)[2:].rjust(l, \" \"))"
   ]
  },
  {
   "cell_type": "code",
   "execution_count": 61,
   "id": "ace781d7",
   "metadata": {},
   "outputs": [],
   "source": [
    "alphabet = {1: 'a', 2: 'b', 3: 'c', 4: 'd', 5: 'e'}"
   ]
  },
  {
   "cell_type": "code",
   "execution_count": 62,
   "id": "d39aaea4",
   "metadata": {},
   "outputs": [
    {
     "data": {
      "text/plain": [
       "'c'"
      ]
     },
     "execution_count": 62,
     "metadata": {},
     "output_type": "execute_result"
    }
   ],
   "source": [
    "n = 3\n",
    "alphabet[n]"
   ]
  },
  {
   "cell_type": "code",
   "execution_count": 65,
   "id": "70011da4",
   "metadata": {},
   "outputs": [
    {
     "name": "stdout",
     "output_type": "stream",
     "text": [
      "--c--\n",
      "--b--\n",
      "--a--\n"
     ]
    },
    {
     "ename": "KeyError",
     "evalue": "0",
     "output_type": "error",
     "traceback": [
      "\u001b[1;31m---------------------------------------------------------------------------\u001b[0m",
      "\u001b[1;31mKeyError\u001b[0m                                  Traceback (most recent call last)",
      "\u001b[1;32m~\\AppData\\Local\\Temp\\ipykernel_3276\\2315341999.py\u001b[0m in \u001b[0;36m<module>\u001b[1;34m\u001b[0m\n\u001b[0;32m      1\u001b[0m \u001b[1;32mfor\u001b[0m \u001b[0mi\u001b[0m \u001b[1;32min\u001b[0m \u001b[0mrange\u001b[0m\u001b[1;33m(\u001b[0m\u001b[0mn\u001b[0m\u001b[1;33m,\u001b[0m\u001b[1;33m-\u001b[0m\u001b[1;36m1\u001b[0m\u001b[1;33m,\u001b[0m\u001b[1;33m-\u001b[0m\u001b[1;36m1\u001b[0m\u001b[1;33m)\u001b[0m\u001b[1;33m:\u001b[0m\u001b[1;33m\u001b[0m\u001b[1;33m\u001b[0m\u001b[0m\n\u001b[1;32m----> 2\u001b[1;33m     \u001b[0mprint\u001b[0m\u001b[1;33m(\u001b[0m\u001b[0malphabet\u001b[0m\u001b[1;33m[\u001b[0m\u001b[0mi\u001b[0m\u001b[1;33m]\u001b[0m\u001b[1;33m.\u001b[0m\u001b[0mcenter\u001b[0m\u001b[1;33m(\u001b[0m\u001b[1;36m2\u001b[0m\u001b[1;33m*\u001b[0m\u001b[1;33m(\u001b[0m\u001b[0mn\u001b[0m\u001b[1;33m-\u001b[0m\u001b[1;36m1\u001b[0m\u001b[1;33m)\u001b[0m\u001b[1;33m+\u001b[0m\u001b[1;36m1\u001b[0m\u001b[1;33m,\u001b[0m \u001b[1;34m'-'\u001b[0m\u001b[1;33m)\u001b[0m\u001b[1;33m)\u001b[0m\u001b[1;33m\u001b[0m\u001b[1;33m\u001b[0m\u001b[0m\n\u001b[0m",
      "\u001b[1;31mKeyError\u001b[0m: 0"
     ]
    }
   ],
   "source": [
    "for i in range(n,-1,-1):\n",
    "    print(alphabet[i].center(2*(n-1)+, '-'))"
   ]
  },
  {
   "cell_type": "code",
   "execution_count": 4,
   "id": "8354e396",
   "metadata": {},
   "outputs": [
    {
     "data": {
      "text/plain": [
       "False"
      ]
     },
     "execution_count": 4,
     "metadata": {},
     "output_type": "execute_result"
    }
   ],
   "source": [
    "'Govind'.islower()"
   ]
  },
  {
   "cell_type": "code",
   "execution_count": 1,
   "id": "1a1900c5",
   "metadata": {},
   "outputs": [],
   "source": [
    "str1 = 'ABCDCDC'\n",
    "str2 = 'CDC'"
   ]
  },
  {
   "cell_type": "code",
   "execution_count": 3,
   "id": "c40ba145",
   "metadata": {},
   "outputs": [
    {
     "name": "stdout",
     "output_type": "stream",
     "text": [
      "2\n"
     ]
    }
   ],
   "source": [
    "ctr= 0\n",
    "for i in range(len(str1)- len(str2) + 1):\n",
    "    if (str1.find(str2, i, len(str2) + i)) != -1:\n",
    "        ctr += 1\n",
    "print(ctr)"
   ]
  },
  {
   "cell_type": "code",
   "execution_count": null,
   "id": "e522a2e4",
   "metadata": {},
   "outputs": [],
   "source": [
    "thickness =5\n",
    "c = 'H'\n",
    "\n",
    "#Top Cone\n",
    "for i in range(thickness):\n",
    "    print((c*i).center(thickness-1)+c+(c*i).ljust(thickness-1))"
   ]
  },
  {
   "cell_type": "code",
   "execution_count": null,
   "id": "099ee380",
   "metadata": {},
   "outputs": [],
   "source": [
    "thickness = int(input()) #This must be an odd number\n",
    "c = 'H'\n",
    "\n",
    "#Top Cone\n",
    "for i in range(thickness):\n",
    "    print((c*i).center(thickness-1)+c+(c*i).center(thickness-1))\n",
    "\n",
    "#Top Pillars\n",
    "for i in range(thickness+1):\n",
    "    print((c*thickness).______(thickness*2)+(c*thickness).______(thickness*6))\n",
    "\n",
    "#Middle Belt\n",
    "for i in range((thickness+1)//2):\n",
    "    print((c*thickness*5).______(thickness*6))    \n",
    "\n",
    "#Bottom Pillars\n",
    "for i in range(thickness+1):\n",
    "    print((c*thickness).______(thickness*2)+(c*thickness).______(thickness*6))    \n",
    "\n",
    "#Bottom Cone\n",
    "for i in range(thickness):\n",
    "    print(((c*(thickness-i-1)).______(thickness)+c+(c*(thickness-i-1)).______(thickness)).______(thickness*6))"
   ]
  },
  {
   "cell_type": "code",
   "execution_count": 6,
   "id": "7b7abc92",
   "metadata": {},
   "outputs": [
    {
     "name": "stdout",
     "output_type": "stream",
     "text": [
      "4\n",
      "4\n"
     ]
    }
   ],
   "source": [
    "n = int(input())\n",
    "print(n)"
   ]
  },
  {
   "cell_type": "code",
   "execution_count": 8,
   "id": "77b3767c",
   "metadata": {},
   "outputs": [
    {
     "name": "stdout",
     "output_type": "stream",
     "text": [
      "bcdef\n",
      "bcdef\n"
     ]
    }
   ],
   "source": [
    "str1 = input()\n",
    "print(str1)"
   ]
  },
  {
   "cell_type": "code",
   "execution_count": 9,
   "id": "40904518",
   "metadata": {},
   "outputs": [
    {
     "name": "stdout",
     "output_type": "stream",
     "text": [
      "bcdef\n",
      "bcde\n",
      "abcdef\n",
      "bcdef\n",
      "['bcdef', 'bcde', 'abcdef', 'bcdef']\n"
     ]
    }
   ],
   "source": [
    "words = []\n",
    "for i in range(n):\n",
    "    word = input()\n",
    "    words.append(word)\n",
    "    \n",
    "print(words)"
   ]
  },
  {
   "cell_type": "code",
   "execution_count": 13,
   "id": "db3a9404",
   "metadata": {},
   "outputs": [
    {
     "name": "stdout",
     "output_type": "stream",
     "text": [
      " No. of unique words:  3\n"
     ]
    }
   ],
   "source": [
    "print(\" No. of unique words: \", len(set(words)))"
   ]
  },
  {
   "cell_type": "code",
   "execution_count": null,
   "id": "648381dc",
   "metadata": {},
   "outputs": [],
   "source": []
  }
 ],
 "metadata": {
  "kernelspec": {
   "display_name": "Python 3 (ipykernel)",
   "language": "python",
   "name": "python3"
  },
  "language_info": {
   "codemirror_mode": {
    "name": "ipython",
    "version": 3
   },
   "file_extension": ".py",
   "mimetype": "text/x-python",
   "name": "python",
   "nbconvert_exporter": "python",
   "pygments_lexer": "ipython3",
   "version": "3.9.13"
  }
 },
 "nbformat": 4,
 "nbformat_minor": 5
}
